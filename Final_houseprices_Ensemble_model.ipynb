{
  "nbformat": 4,
  "nbformat_minor": 0,
  "metadata": {
    "colab": {
      "provenance": [],
      "authorship_tag": "ABX9TyNH11p/00sGj0xpTE65LxSS",
      "include_colab_link": true
    },
    "kernelspec": {
      "name": "python3",
      "display_name": "Python 3"
    },
    "language_info": {
      "name": "python"
    }
  },
  "cells": [
    {
      "cell_type": "markdown",
      "metadata": {
        "id": "view-in-github",
        "colab_type": "text"
      },
      "source": [
        "<a href=\"https://colab.research.google.com/github/Chirag314/Final-houseprices-ensemble-model/blob/main/Final_houseprices_Ensemble_model.ipynb\" target=\"_parent\"><img src=\"https://colab.research.google.com/assets/colab-badge.svg\" alt=\"Open In Colab\"/></a>"
      ]
    },
    {
      "cell_type": "markdown",
      "source": [
        "###This notebook is copied from exercises from book Ensemble Machine Learning Cookbook."
      ],
      "metadata": {
        "id": "de3ggC8Kv_99"
      }
    },
    {
      "cell_type": "code",
      "execution_count": 1,
      "metadata": {
        "colab": {
          "base_uri": "https://localhost:8080/"
        },
        "id": "rror9ooAv2jU",
        "outputId": "53d35da5-74e8-4dd2-ee28-c053fa41e7f9"
      },
      "outputs": [
        {
          "output_type": "stream",
          "name": "stdout",
          "text": [
            "   MSSubClass MSZoning  LotFrontage  LotArea Street     Alley LotShape  \\\n",
            "0          60       RL           65     8450   Pave  NoAccess      Reg   \n",
            "1          20       RL           80     9600   Pave  NoAccess      Reg   \n",
            "2          60       RL           68    11250   Pave  NoAccess      IR1   \n",
            "3          70       RL           60     9550   Pave  NoAccess      IR1   \n",
            "4          60       RL           84    14260   Pave  NoAccess      IR1   \n",
            "\n",
            "  LandContour Utilities LotConfig LandSlope Neighborhood Condition1  \\\n",
            "0         Lvl    AllPub    Inside       Gtl      CollgCr       Norm   \n",
            "1         Lvl    AllPub       FR2       Gtl      Veenker      Feedr   \n",
            "2         Lvl    AllPub    Inside       Gtl      CollgCr       Norm   \n",
            "3         Lvl    AllPub    Corner       Gtl      Crawfor       Norm   \n",
            "4         Lvl    AllPub       FR2       Gtl      NoRidge       Norm   \n",
            "\n",
            "  Condition2 BldgType HouseStyle  OverallQual  OverallCond  YearBuilt  \\\n",
            "0       Norm     1Fam     2Story            7            5       2003   \n",
            "1       Norm     1Fam     1Story            6            8       1976   \n",
            "2       Norm     1Fam     2Story            7            5       2001   \n",
            "3       Norm     1Fam     2Story            7            5       1915   \n",
            "4       Norm     1Fam     2Story            8            5       2000   \n",
            "\n",
            "   YearRemodAdd RoofStyle RoofMatl Exterior1st Exterior2nd MasVnrType  \\\n",
            "0          2003     Gable  CompShg     VinylSd     VinylSd    BrkFace   \n",
            "1          1976     Gable  CompShg     MetalSd     MetalSd       None   \n",
            "2          2002     Gable  CompShg     VinylSd     VinylSd    BrkFace   \n",
            "3          1970     Gable  CompShg     Wd Sdng     Wd Shng       None   \n",
            "4          2000     Gable  CompShg     VinylSd     VinylSd    BrkFace   \n",
            "\n",
            "   MasVnrArea ExterQual ExterCond Foundation BsmtQual BsmtCond BsmtExposure  \\\n",
            "0         196        Gd        TA      PConc       Gd       TA           No   \n",
            "1           0        TA        TA     CBlock       Gd       TA           Gd   \n",
            "2         162        Gd        TA      PConc       Gd       TA           Mn   \n",
            "3           0        TA        TA     BrkTil       TA       Gd           No   \n",
            "4         350        Gd        TA      PConc       Gd       TA           Av   \n",
            "\n",
            "  BsmtFinType1  BsmtFinSF1 BsmtFinType2  BsmtFinSF2  BsmtUnfSF  TotalBsmtSF  \\\n",
            "0          GLQ         706          Unf           0        150          856   \n",
            "1          ALQ         978          Unf           0        284         1262   \n",
            "2          GLQ         486          Unf           0        434          920   \n",
            "3          ALQ         216          Unf           0        540          756   \n",
            "4          GLQ         655          Unf           0        490         1145   \n",
            "\n",
            "  Heating HeatingQC CentralAir Electrical  1stFlrSF  2ndFlrSF  LowQualFinSF  \\\n",
            "0    GasA        Ex          Y      SBrkr       856       854             0   \n",
            "1    GasA        Ex          Y      SBrkr      1262         0             0   \n",
            "2    GasA        Ex          Y      SBrkr       920       866             0   \n",
            "3    GasA        Gd          Y      SBrkr       961       756             0   \n",
            "4    GasA        Ex          Y      SBrkr      1145      1053             0   \n",
            "\n",
            "   GrLivArea  BsmtFullBath  BsmtHalfBath  FullBath  HalfBath  BedroomAbvGr  \\\n",
            "0       1710             1             0         2         1             3   \n",
            "1       1262             0             1         2         0             3   \n",
            "2       1786             1             0         2         1             3   \n",
            "3       1717             1             0         1         0             3   \n",
            "4       2198             1             0         2         1             4   \n",
            "\n",
            "   KitchenAbvGr KitchenQual  TotRmsAbvGrd Functional  Fireplaces  \\\n",
            "0             1          Gd             8        Typ           0   \n",
            "1             1          TA             6        Typ           1   \n",
            "2             1          Gd             6        Typ           1   \n",
            "3             1          Gd             7        Typ           1   \n",
            "4             1          Gd             9        Typ           1   \n",
            "\n",
            "    FireplaceQu GarageType  GarageYrBlt GarageFinish  GarageCars  GarageArea  \\\n",
            "0  No Fireplace     Attchd         2003          RFn           2         548   \n",
            "1            TA     Attchd         1976          RFn           2         460   \n",
            "2            TA     Attchd         2001          RFn           2         608   \n",
            "3            Gd     Detchd         1998          Unf           3         642   \n",
            "4            TA     Attchd         2000          RFn           3         836   \n",
            "\n",
            "  GarageQual GarageCond PavedDrive  WoodDeckSF  OpenPorchSF  EnclosedPorch  \\\n",
            "0         TA         TA          Y           0           61              0   \n",
            "1         TA         TA          Y         298            0              0   \n",
            "2         TA         TA          Y           0           42              0   \n",
            "3         TA         TA          Y           0           35            272   \n",
            "4         TA         TA          Y         192           84              0   \n",
            "\n",
            "   3SsnPorch  ScreenPorch  PoolArea   PoolQC     Fence MiscFeature  MiscVal  \\\n",
            "0          0            0         0  No Pool  No Fence        None        0   \n",
            "1          0            0         0  No Pool  No Fence        None        0   \n",
            "2          0            0         0  No Pool  No Fence        None        0   \n",
            "3          0            0         0  No Pool  No Fence        None        0   \n",
            "4          0            0         0  No Pool  No Fence        None        0   \n",
            "\n",
            "   MoSold  YrSold SaleType SaleCondition  SalePrice  \n",
            "0       2    2008       WD        Normal     208500  \n",
            "1       5    2007       WD        Normal     181500  \n",
            "2       9    2008       WD        Normal     223500  \n",
            "3       2    2006       WD       Abnorml     140000  \n",
            "4      12    2008       WD        Normal     250000  \n"
          ]
        }
      ],
      "source": [
        "# Read data from github. Use raw format and copy url# Note normal url and raw url will be different.\n",
        "import pandas as pd\n",
        "pd.options.display.max_rows=None\n",
        "pd.options.display.max_columns=None\n",
        "url = 'https://raw.githubusercontent.com/PacktPublishing/Ensemble-Machine-Learning-Cookbook/master/Chapter03/Final_HousePrices.csv'\n",
        "df_housingdata = pd.read_csv(url)\n",
        "#df = pd.read_csv(url)\n",
        "print(df_housingdata.head(5))"
      ]
    },
    {
      "cell_type": "code",
      "source": [
        "#Check the shape of data\n",
        "df_housingdata.shape"
      ],
      "metadata": {
        "colab": {
          "base_uri": "https://localhost:8080/"
        },
        "id": "ZOITXNiM0fUc",
        "outputId": "d04e6ef9-f3fb-4ade-9b28-25c18693c982"
      },
      "execution_count": 2,
      "outputs": [
        {
          "output_type": "execute_result",
          "data": {
            "text/plain": [
              "(1460, 80)"
            ]
          },
          "metadata": {},
          "execution_count": 2
        }
      ]
    },
    {
      "cell_type": "code",
      "source": [
        "# Check for missing values.\n",
        "df_housingdata.isnull().sum()"
      ],
      "metadata": {
        "colab": {
          "base_uri": "https://localhost:8080/"
        },
        "id": "G_9ncE1O0o2C",
        "outputId": "48594a0e-363e-412e-d40b-ac2a01d0efb3"
      },
      "execution_count": 3,
      "outputs": [
        {
          "output_type": "execute_result",
          "data": {
            "text/plain": [
              "MSSubClass       0\n",
              "MSZoning         0\n",
              "LotFrontage      0\n",
              "LotArea          0\n",
              "Street           0\n",
              "Alley            0\n",
              "LotShape         0\n",
              "LandContour      0\n",
              "Utilities        0\n",
              "LotConfig        0\n",
              "LandSlope        0\n",
              "Neighborhood     0\n",
              "Condition1       0\n",
              "Condition2       0\n",
              "BldgType         0\n",
              "HouseStyle       0\n",
              "OverallQual      0\n",
              "OverallCond      0\n",
              "YearBuilt        0\n",
              "YearRemodAdd     0\n",
              "RoofStyle        0\n",
              "RoofMatl         0\n",
              "Exterior1st      0\n",
              "Exterior2nd      0\n",
              "MasVnrType       0\n",
              "MasVnrArea       0\n",
              "ExterQual        0\n",
              "ExterCond        0\n",
              "Foundation       0\n",
              "BsmtQual         0\n",
              "BsmtCond         0\n",
              "BsmtExposure     0\n",
              "BsmtFinType1     0\n",
              "BsmtFinSF1       0\n",
              "BsmtFinType2     0\n",
              "BsmtFinSF2       0\n",
              "BsmtUnfSF        0\n",
              "TotalBsmtSF      0\n",
              "Heating          0\n",
              "HeatingQC        0\n",
              "CentralAir       0\n",
              "Electrical       0\n",
              "1stFlrSF         0\n",
              "2ndFlrSF         0\n",
              "LowQualFinSF     0\n",
              "GrLivArea        0\n",
              "BsmtFullBath     0\n",
              "BsmtHalfBath     0\n",
              "FullBath         0\n",
              "HalfBath         0\n",
              "BedroomAbvGr     0\n",
              "KitchenAbvGr     0\n",
              "KitchenQual      0\n",
              "TotRmsAbvGrd     0\n",
              "Functional       0\n",
              "Fireplaces       0\n",
              "FireplaceQu      0\n",
              "GarageType       0\n",
              "GarageYrBlt      0\n",
              "GarageFinish     0\n",
              "GarageCars       0\n",
              "GarageArea       0\n",
              "GarageQual       0\n",
              "GarageCond       0\n",
              "PavedDrive       0\n",
              "WoodDeckSF       0\n",
              "OpenPorchSF      0\n",
              "EnclosedPorch    0\n",
              "3SsnPorch        0\n",
              "ScreenPorch      0\n",
              "PoolArea         0\n",
              "PoolQC           0\n",
              "Fence            0\n",
              "MiscFeature      0\n",
              "MiscVal          0\n",
              "MoSold           0\n",
              "YrSold           0\n",
              "SaleType         0\n",
              "SaleCondition    0\n",
              "SalePrice        0\n",
              "dtype: int64"
            ]
          },
          "metadata": {},
          "execution_count": 3
        }
      ]
    },
    {
      "cell_type": "markdown",
      "source": [
        "#####Here, we can see that there are no missing values in data. Now separate predictor and response variable into two different dataframes"
      ],
      "metadata": {
        "id": "Fhig-YINwrKz"
      }
    },
    {
      "cell_type": "code",
      "source": [
        "# Create feature and response variables\n",
        "X=df_housingdata.iloc[:,0:79]\n",
        "Y=df_housingdata['SalePrice']"
      ],
      "metadata": {
        "id": "we5pulO209zv"
      },
      "execution_count": 4,
      "outputs": []
    },
    {
      "cell_type": "code",
      "source": [
        "#import required libraries\n",
        "from sklearn.linear_model import LinearRegression\n",
        "from sklearn.tree import DecisionTreeRegressor\n",
        "from sklearn.svm import SVR\n",
        "from sklearn.tree import DecisionTreeClassifier\n",
        "from sklearn.svm import SVC\n",
        "from sklearn.linear_model import LogisticRegression\n",
        "from sklearn.ensemble import VotingClassifier\n"
      ],
      "metadata": {
        "id": "uuEy1KqUwmP_"
      },
      "execution_count": 5,
      "outputs": []
    },
    {
      "cell_type": "code",
      "source": [
        "#Create train and test cample from our dataset\n",
        "from sklearn.model_selection import train_test_split\n",
        "\n",
        "# Create train and test results\n",
        "X_train, X_test, Y_train, Y_test=train_test_split(X,Y,test_size=0.3,random_state=1)"
      ],
      "metadata": {
        "id": "Co9qf7bqxDyn"
      },
      "execution_count": 6,
      "outputs": []
    },
    {
      "cell_type": "code",
      "source": [
        "# Check shape of each type\n",
        "print(X_train.shape)\n",
        "print(X_test.shape)\n",
        "print(Y_train.shape)\n",
        "print(Y_test.shape)"
      ],
      "metadata": {
        "colab": {
          "base_uri": "https://localhost:8080/"
        },
        "id": "dq9Urdj81UvE",
        "outputId": "c6d334bd-eaf0-4de4-a40c-1897e27154ef"
      },
      "execution_count": 7,
      "outputs": [
        {
          "output_type": "stream",
          "name": "stdout",
          "text": [
            "(1022, 79)\n",
            "(438, 79)\n",
            "(1022,)\n",
            "(438,)\n"
          ]
        }
      ]
    }
  ]
}